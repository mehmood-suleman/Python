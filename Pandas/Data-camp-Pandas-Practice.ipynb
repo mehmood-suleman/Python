{
 "cells": [
  {
   "cell_type": "raw",
   "id": "309c17bb",
   "metadata": {},
   "source": [
    "# 03/02/2023\n",
    "colors = [\"brown\", \"black\", \"tan\"]\n",
    "condition = dogs[\"color\"].isin(colors)\n",
    "dogs[condition]"
   ]
  },
  {
   "cell_type": "raw",
   "id": "497bfb3c",
   "metadata": {},
   "source": [
    "dogs['height_m']=dogs['height_cm']/100\n",
    "dogs['bmi'] = dogs['weight_kg']/dogs[height]**2\n"
   ]
  },
  {
   "cell_type": "raw",
   "id": "2e737092",
   "metadata": {},
   "source": [
    "bmi_lt_100 = dogs[dogs['bmi']<100]\n",
    "bmi_lt_100_height = bmi_lt_100.sort_values('height_com','ascending = False)"
   ]
  },
  {
   "cell_type": "raw",
   "id": "aee91fff",
   "metadata": {},
   "source": [
    "dogs['weight_kg'].cumsum()\n",
    "# returns fisr wiegt , first+second weight+first+second+third weight"
   ]
  },
  {
   "cell_type": "raw",
   "id": "8b145765",
   "metadata": {},
   "source": [
    "cummax() # return first value as max + max out of first and 2nd Value\n",
    "cummin()\n",
    "cumprod()"
   ]
  },
  {
   "cell_type": "raw",
   "id": "a92131f9",
   "metadata": {},
   "source": [
    "print(sales[[\"temperature_c\", \"fuel_price_usd_per_l\", \"unemployment\"]].agg([iqr,np.median]))"
   ]
  },
  {
   "cell_type": "markdown",
   "id": "22d274db",
   "metadata": {},
   "source": [
    "# 04/02/2023"
   ]
  },
  {
   "cell_type": "code",
   "execution_count": null,
   "id": "fe784b4f",
   "metadata": {},
   "outputs": [],
   "source": [
    "# Counting\n",
    "unique_dogs = vet_visits.drop_duplicates(subset =[\"name\",\"bread\"]) \n",
    "unique_dogs['bread'].value_counts()\n",
    "unique_dogs['bread'].value_counts(sort=True)\n",
    "unique_dogs['bread'].value_counts(normalize) # Proportion of the total\n",
    "\n",
    "# Get the proportion of departments of each number and sort\n",
    "dept_props_sorted = store_depts['department'].value_counts(sort=True, normalize=True)\n",
    "print(dept_props_sorted)\n",
    "\n",
    "# Count the number of each department number and sort\n",
    "dept_counts_sorted = store_depts['department'].value_counts(sort = True)\n",
    "print(dept_counts_sorted)\n",
    "\n",
    "# Get the proportion of stores of each type\n",
    "store_props = store_types['type'].value_counts(normalize=True)\n",
    "print(store_props)\n",
    "\n",
    "# Count the number of stores of each type\n",
    "store_counts = store_types['type'].value_counts()\n",
    "print(store_counts)\n"
   ]
  },
  {
   "cell_type": "markdown",
   "id": "b8c7e807",
   "metadata": {},
   "source": [
    "# 07/02/2023"
   ]
  },
  {
   "cell_type": "code",
   "execution_count": null,
   "id": "b2c171f0",
   "metadata": {},
   "outputs": [],
   "source": [
    "Summary Statistics\n",
    "dogs[dogs[\"colors\"]==\"black\"][\"weight_kg\"].mean()\n",
    "dogs[dogs[\"colors\"]==\"brown\"][\"weight_kg\"].mean()\n",
    "dogs[dogs[\"colors\"]==\"white\"][\"weight_kg\"].mean()\n",
    "dogs[dogs[\"colors\"]==\"gray\"][\"weight_kg\"].mean()\n",
    "dogs[dogs[\"colors\"]==\"tan\"][\"weight_kg\"].mean()\n",
    "#same reult\n",
    "dogs.groupby(\"color\")[\"weight_kg\"].mean()\n",
    "dogs.groupby(\"color\")[\"weight_kg\"].agg([min,max,sum])\n",
    "dogs.groupby([\"color\",\"breed\"])[\"weight_kg\"].agg([min,max,sum])\n",
    "dogs.groupby([\"color\",\"breed\"])[\"weight_kg\",\"height_cm\"].agg([min,max,sum])\n",
    "dogs.groupby([\"color\",\"breed\"])[\"weight_kg\",\"height_cm\"].mean()\n",
    "\n"
   ]
  },
  {
   "cell_type": "raw",
   "id": "86000b12",
   "metadata": {},
   "source": [
    "# Calc total weekly sales\n",
    "sales_all = sales[\"weekly_sales\"].sum()\n",
    "\n",
    "# Subset for type A stores, calc total weekly sales\n",
    "sales_A = sales[sales[\"type\"] == \"A\"][\"weekly_sales\"].sum()\n",
    "\n",
    "#Subset for type B stores, calc total weekly sales\n",
    "sales_B = sales[sales[\"type\"] == \"B\"][\"weekly_sales\"].sum()\n",
    "\n",
    "# Subset for type C stores, calc total weekly sales\n",
    "sales_C =sales[sales[\"type\"] == \"C\"][\"weekly_sales\"].sum() \n",
    "\n",
    "# Get proportion for each type\n",
    "sales_propn_by_type = [sales_A,sales_B, sales_C] / sales_all\n",
    "print(sales_propn_by_type)"
   ]
  },
  {
   "cell_type": "raw",
   "id": "565f0a33",
   "metadata": {},
   "source": [
    "# Group by type; calc total weekly sales\n",
    "sales_by_type = sales.groupby(\"type\")[\"weekly_sales\"].sum()\n",
    "\n",
    "# Get proportion for each type\n",
    "sales_propn_by_type = sales_by_type / sum(sales_by_type)\n",
    "print(sales_propn_by_type)"
   ]
  },
  {
   "cell_type": "markdown",
   "id": "f43a5d08",
   "metadata": {},
   "source": [
    "# 07/02/2023"
   ]
  },
  {
   "cell_type": "markdown",
   "id": "87302875",
   "metadata": {},
   "source": [
    "# Pivot Table"
   ]
  },
  {
   "cell_type": "raw",
   "id": "5b49451b",
   "metadata": {},
   "source": [
    "dogs.groupby('color')[weight_kg].mean()\n",
    "dogs.pivot_table(values='weight_kg',index='color') # both are same\n",
    "\n",
    "dogs.pivot_table(values='weight_kg',index='color',aggfunc=np.median) \n",
    "dogs.pivot_table(values='weight_kg',index='color',aggfunc=[np.median,np.mean) "
   ]
  },
  {
   "cell_type": "code",
   "execution_count": null,
   "id": "e317c0bb",
   "metadata": {},
   "outputs": [],
   "source": [
    "dogs.groupby(['color','bread'])[weight_kg].mean()\n",
    "dogs.pivot_table(values='weight_kg',index='color',columns ='bread') # both are same\n",
    "dogs.pivot_table(values='weight_kg',index='color',columns ='bread',fill_value =0) # both are same\n",
    "dogs.pivot_table(values='weight_kg',index='color',columns ='bread',fill_value =0 ,margin=True) # both are same\n",
    "\n",
    "mean_sales_by_type_holiday = sales.pivot_table(values='weekly_sales',index ='type',columns = 'is_holiday')\n",
    "print(sales.pivot_table(values=\"weekly_sales\", index=\"department\", columns=\"type\", fill_value=0))\n",
    "\n",
    "print(sales.pivot_table(values=\"weekly_sales\", index=\"department\", columns=\"type\", fill_value=0,margins=True))"
   ]
  },
  {
   "cell_type": "markdown",
   "id": "dedc2218",
   "metadata": {},
   "source": [
    "# Explicit indices"
   ]
  },
  {
   "cell_type": "code",
   "execution_count": null,
   "id": "d37d8bab",
   "metadata": {},
   "outputs": [],
   "source": [
    "dogs.column\n",
    "dogs.index\n",
    "dogs_ind = dogs.set_index('name')\n",
    "dogs_ind.reset_index()  # 0,1,2,3\n",
    "dogs_ind.reset_index(drop=True)  # name fields will be deleted\n",
    "\n",
    "dogs[dogs[\"name\"].isin['a','b'])] # both are same\n",
    "dogs_ind.loc[['a','b']] # both are same\n",
    "\n",
    "dogs_ind3 = dogs.set_index(['name','color'])\n",
    "dogs_ind2 = dogs.set_index(['bread'])\n",
    "dogs_ind2.loc['labrador']\n",
    "dogs_ind3.loc[['labrador','chi']] # outer level index\n",
    "dogs_ind3.loc[[('labrador','brown'),('chi','tan')]] # inner level index\n",
    "dogs_ind3.loc.sort_index() # outer to inner ascending level\n",
    "dogs_ind3.loc.sort_index(level=['color','bread'],ascending=[True,False])\n",
    "\n"
   ]
  },
  {
   "cell_type": "markdown",
   "id": "b1164e38",
   "metadata": {},
   "source": [
    "# 08/02/2023"
   ]
  },
  {
   "cell_type": "code",
   "execution_count": null,
   "id": "8ef2343e",
   "metadata": {},
   "outputs": [],
   "source": [
    "print(temperatures_ind.loc[cities])\n",
    "# Make a list of cities to subset on\n",
    "cities = [\"Moscow\", \"Saint Petersburg\"]\n",
    "\n",
    "# Subset temperatures using square brackets\n",
    "print(temperatures[temperatures[\"city\"].isin(cities)])\n",
    "\n",
    "# Subset temperatures_ind using .loc[]\n",
    "print(temperatures_ind.loc[cities])"
   ]
  },
  {
   "cell_type": "code",
   "execution_count": null,
   "id": "6776cf13",
   "metadata": {},
   "outputs": [],
   "source": []
  },
  {
   "cell_type": "code",
   "execution_count": null,
   "id": "53762a22",
   "metadata": {},
   "outputs": [],
   "source": []
  }
 ],
 "metadata": {
  "kernelspec": {
   "display_name": "Python 3 (ipykernel)",
   "language": "python",
   "name": "python3"
  },
  "language_info": {
   "codemirror_mode": {
    "name": "ipython",
    "version": 3
   },
   "file_extension": ".py",
   "mimetype": "text/x-python",
   "name": "python",
   "nbconvert_exporter": "python",
   "pygments_lexer": "ipython3",
   "version": "3.10.9"
  }
 },
 "nbformat": 4,
 "nbformat_minor": 5
}
